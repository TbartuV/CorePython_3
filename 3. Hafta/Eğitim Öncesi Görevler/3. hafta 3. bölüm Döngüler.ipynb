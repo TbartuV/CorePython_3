{
 "cells": [
  {
   "cell_type": "markdown",
   "metadata": {},
   "source": [
    "DÖNGÜLER\n",
    "\n",
    "• Döngüler, temel olarak, verilen kosullar karsilanana kadar devam eden tekrar eden bir süreçtir.\n",
    "\n",
    "• Döngünün kosulu her zaman dogruysa döngü sonsuza kadar devam eder. Hangisine \"Sonsuz döngü\" denir. Bu tür döngülere genellikle while döngüsünde rastlariz.\n",
    "\n",
    "• Eger bir döngünün kosulu bastan yanlissa, bu nedenle döngünün çalismasina izin vermez. Sonra buna \"sifir açma döngüsu\" denir.\n",
    "\n",
    "FOR DÖNGÜSÜ\n",
    "\n",
    "• for Döngüsü, listelerin ,demetlerin, stringlerin ve hatta sözlüklerin üzerinde dolasmamizi saglayan bir döngü türüdür. Yapisi su sekildedir.\n",
    "\n",
    "for eleman in veriYapisi:\n",
    "\n",
    "Yapilacak Islemler"
   ]
  },
  {
   "cell_type": "code",
   "execution_count": 4,
   "metadata": {},
   "outputs": [
    {
     "name": "stdout",
     "output_type": "stream",
     "text": [
      "1\n",
      "2\n",
      "3\n",
      "4\n",
      "5\n"
     ]
    }
   ],
   "source": [
    "liste = [1,2,3,4,5]\n",
    "for i in liste :\n",
    "    print(i)"
   ]
  },
  {
   "cell_type": "code",
   "execution_count": 5,
   "metadata": {},
   "outputs": [
    {
     "name": "stdout",
     "output_type": "stream",
     "text": [
      "1\n",
      "4\n",
      "9\n",
      "16\n",
      "25\n"
     ]
    }
   ],
   "source": [
    "liste = [1,2,3,4,5]\n",
    "for i in liste :\n",
    "    print(i**2)"
   ]
  },
  {
   "cell_type": "code",
   "execution_count": 6,
   "metadata": {},
   "outputs": [
    {
     "name": "stdout",
     "output_type": "stream",
     "text": [
      "Y\n",
      "e\n",
      "t\n",
      "G\n",
      "e\n",
      "n\n",
      " \n",
      "J\n",
      "u\n",
      "m\n",
      "p\n"
     ]
    }
   ],
   "source": [
    "string= \"YetGen Jump\"\n",
    "for string1 in string:\n",
    "    print(string1)\n",
    "    "
   ]
  },
  {
   "cell_type": "markdown",
   "metadata": {},
   "source": [
    "While Döngüsü\n",
    "\n",
    "• while döngüleri belli bir kosul saglandigi sürece blogundaki islemleri gerçeklestirmeye devam eder. while döngülerinin sona ermesi için kosul durumunun bir süre sonra False olmasi gereklidir.Yapisi su sekildedir;\n",
    "\n",
    "while kosul:\n",
    "\n",
    "Yapilacak Islemler"
   ]
  },
  {
   "cell_type": "code",
   "execution_count": 7,
   "metadata": {},
   "outputs": [
    {
     "name": "stdout",
     "output_type": "stream",
     "text": [
      "toplam:  55\n"
     ]
    }
   ],
   "source": [
    "sum = 0 \n",
    "i= 1 \n",
    "while i < 11 :\n",
    "    sum += i #sum= sum+i\n",
    "    i += 1\n",
    "print(\"toplam: \", sum) "
   ]
  },
  {
   "cell_type": "markdown",
   "metadata": {},
   "source": [
    "range () Fonksiyonu\n",
    "\n",
    "range(başlangıç,bitiş,artış miktarı) şeklinde kullanılır."
   ]
  },
  {
   "cell_type": "code",
   "execution_count": 8,
   "metadata": {},
   "outputs": [
    {
     "name": "stdout",
     "output_type": "stream",
     "text": [
      "range(1, 10, 2)\n"
     ]
    }
   ],
   "source": [
    "print(range(1,10,2))"
   ]
  },
  {
   "cell_type": "code",
   "execution_count": 9,
   "metadata": {},
   "outputs": [
    {
     "name": "stdout",
     "output_type": "stream",
     "text": [
      "1\n",
      "3\n",
      "5\n",
      "7\n",
      "9\n"
     ]
    }
   ],
   "source": [
    "for x in range (1,10,2):\n",
    "    print(x)"
   ]
  },
  {
   "cell_type": "code",
   "execution_count": 10,
   "metadata": {},
   "outputs": [
    {
     "name": "stdout",
     "output_type": "stream",
     "text": [
      "0\n",
      "1\n",
      "2\n",
      "3\n",
      "4\n"
     ]
    }
   ],
   "source": [
    "for x in range (5):\n",
    "    print(x)"
   ]
  },
  {
   "cell_type": "markdown",
   "metadata": {},
   "source": [
    "break\n",
    "\n",
    "break ifadesi döngüyü sonlandırır.\n",
    "\n",
    "continue\n",
    "\n",
    "continue ifadesi döngünün sonraki adımına geçer."
   ]
  },
  {
   "cell_type": "code",
   "execution_count": 11,
   "metadata": {},
   "outputs": [
    {
     "name": "stdout",
     "output_type": "stream",
     "text": [
      "0\n",
      "1\n",
      "2\n",
      "3\n",
      "4\n"
     ]
    }
   ],
   "source": [
    "i =0 \n",
    "while i<10 :\n",
    "    if(i==5):\n",
    "        break\n",
    "    else:\n",
    "        print(i)\n",
    "    i += 1\n",
    "    "
   ]
  },
  {
   "cell_type": "code",
   "execution_count": 15,
   "metadata": {},
   "outputs": [
    {
     "name": "stdout",
     "output_type": "stream",
     "text": [
      "Uygulamadan çıkmak içiçn q tuşuna basınız.\n",
      "Yaşınız: 24\n",
      "Uygulamadan çıkmak içiçn q tuşuna basınız.\n",
      "Yaşınız: 24\n",
      "Uygulamadan çıkmak içiçn q tuşuna basınız.\n",
      "Yaşınız: 23\n",
      "Uygulamadan çıkmak içiçn q tuşuna basınız.\n",
      "Yaşınız: 25\n",
      "Uygulamadan çıkmak içiçn q tuşuna basınız.\n"
     ]
    }
   ],
   "source": [
    "while True:\n",
    "    print(\"Uygulamadan çıkmak içiçn q tuşuna basınız.\")\n",
    "    yas = input(\"Yaş: \")\n",
    "    if(yas == \"q\"):\n",
    "        break\n",
    "    else:\n",
    "        print(\"Yaşınız:\" , yas)"
   ]
  },
  {
   "cell_type": "code",
   "execution_count": 16,
   "metadata": {},
   "outputs": [
    {
     "name": "stdout",
     "output_type": "stream",
     "text": [
      "0\n",
      "1\n",
      "2\n",
      "3\n",
      "4\n",
      "6\n"
     ]
    }
   ],
   "source": [
    "for i in range (7):\n",
    "    if i == 5:\n",
    "        continue\n",
    "    print(i)"
   ]
  }
 ],
 "metadata": {
  "kernelspec": {
   "display_name": "Python 3",
   "language": "python",
   "name": "python3"
  },
  "language_info": {
   "codemirror_mode": {
    "name": "ipython",
    "version": 3
   },
   "file_extension": ".py",
   "mimetype": "text/x-python",
   "name": "python",
   "nbconvert_exporter": "python",
   "pygments_lexer": "ipython3",
   "version": "3.12.3"
  }
 },
 "nbformat": 4,
 "nbformat_minor": 2
}
