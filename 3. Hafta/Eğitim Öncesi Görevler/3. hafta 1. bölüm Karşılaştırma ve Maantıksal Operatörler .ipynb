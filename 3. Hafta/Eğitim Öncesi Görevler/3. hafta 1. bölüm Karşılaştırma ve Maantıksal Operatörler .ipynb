{
 "cells": [
  {
   "cell_type": "markdown",
   "metadata": {},
   "source": [
    "KARŞILAŞTIRMA OPERATÖRLERİ \n",
    "\n",
    "= atama operatörüdür. Mesela x=5 derken x değerini 5'e atamış oluyoruz. \n",
    "\n",
    "== iki değerin birbirine eşit olup ılmadığını kontrol eder. Eşitse True eşit değilse False değerini döndürür.\n",
    "\n",
    "!= eşit değil mi ? Cevap eşit değilse True, eşitse False değerini döndürür. \n",
    "\n",
    "> büyüktür.\n",
    "\n",
    "< küçüktür. \n",
    "\n",
    ">= büyük eşittir.\n",
    "\n",
    "<= küçük eşittir. "
   ]
  },
  {
   "cell_type": "code",
   "execution_count": 8,
   "metadata": {},
   "outputs": [],
   "source": [
    "a,b,c,d = 5,5,10,4"
   ]
  },
  {
   "cell_type": "code",
   "execution_count": 9,
   "metadata": {},
   "outputs": [
    {
     "name": "stdout",
     "output_type": "stream",
     "text": [
      "True\n",
      "False\n"
     ]
    }
   ],
   "source": [
    "print(a==b)\n",
    "print(a==c)\n"
   ]
  },
  {
   "cell_type": "code",
   "execution_count": 10,
   "metadata": {},
   "outputs": [
    {
     "name": "stdout",
     "output_type": "stream",
     "text": [
      "False\n"
     ]
    }
   ],
   "source": [
    "username = \"admin\"\n",
    "password = \"12345\"\n",
    "\n",
    "print (\"berkcan\" == username)"
   ]
  },
  {
   "cell_type": "code",
   "execution_count": 11,
   "metadata": {},
   "outputs": [
    {
     "name": "stdout",
     "output_type": "stream",
     "text": [
      "False\n"
     ]
    }
   ],
   "source": [
    "print(a != b)"
   ]
  },
  {
   "cell_type": "markdown",
   "metadata": {},
   "source": [
    "MANTIKSAL OPERATÖRLER\n",
    "\n",
    "AND OPERATÖRÜ (VE ANLAMINA GELİR)\n",
    "\n",
    "True And True = True\n",
    "\n",
    "True And False = False\n",
    "\n",
    "False And True = False\n",
    "\n",
    "False And False= False\n",
    "\n",
    "Her iki durumda eger dogruysa True degerini döndürür. Diger durumlarda hep False degerini döndürür."
   ]
  },
  {
   "cell_type": "code",
   "execution_count": 12,
   "metadata": {},
   "outputs": [
    {
     "name": "stdout",
     "output_type": "stream",
     "text": [
      "True\n"
     ]
    }
   ],
   "source": [
    "x= int (input(\"Bir sayı giriniz: \"))\n",
    "\n",
    "print(x>5 and x<100 )\n"
   ]
  },
  {
   "cell_type": "code",
   "execution_count": 13,
   "metadata": {},
   "outputs": [
    {
     "name": "stdout",
     "output_type": "stream",
     "text": [
      "True\n"
     ]
    }
   ],
   "source": [
    "hak=5\n",
    "devam = True\n",
    "print( hak>0 and devam == True ) \n"
   ]
  },
  {
   "cell_type": "markdown",
   "metadata": {},
   "source": [
    "OR OPERATÖRÜ (VEYA ANLAMINA GELİR)\n",
    "\n",
    "Python\n",
    "\n",
    "﻿﻿True or True = True\n",
    "\n",
    "﻿﻿True or False = True\n",
    "\n",
    "﻿﻿False or True = True\n",
    "\n",
    "﻿﻿False or False= False\n",
    "\n",
    "﻿﻿Yalnizca 2 durumun yanis oldugu zaman False diger her durumda True deger verir."
   ]
  },
  {
   "cell_type": "code",
   "execution_count": 16,
   "metadata": {},
   "outputs": [
    {
     "name": "stdout",
     "output_type": "stream",
     "text": [
      "True\n"
     ]
    }
   ],
   "source": [
    "x= int (input(\"Bir sayı giriniz: \"))\n",
    "\n",
    "print(x>0 or x%2 == 0)"
   ]
  },
  {
   "cell_type": "markdown",
   "metadata": {},
   "source": [
    "NOT OPERATÖRÜ\n",
    "\n",
    "True değerini False \n",
    "False değerini True döndürür.\n"
   ]
  },
  {
   "cell_type": "code",
   "execution_count": 19,
   "metadata": {},
   "outputs": [
    {
     "name": "stdout",
     "output_type": "stream",
     "text": [
      "False\n"
     ]
    }
   ],
   "source": [
    "print(not(True))"
   ]
  }
 ],
 "metadata": {
  "kernelspec": {
   "display_name": "Python 3",
   "language": "python",
   "name": "python3"
  },
  "language_info": {
   "codemirror_mode": {
    "name": "ipython",
    "version": 3
   },
   "file_extension": ".py",
   "mimetype": "text/x-python",
   "name": "python",
   "nbconvert_exporter": "python",
   "pygments_lexer": "ipython3",
   "version": "3.12.3"
  }
 },
 "nbformat": 4,
 "nbformat_minor": 2
}
