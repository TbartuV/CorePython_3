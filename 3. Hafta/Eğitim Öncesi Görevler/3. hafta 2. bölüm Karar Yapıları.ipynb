{
 "cells": [
  {
   "cell_type": "markdown",
   "metadata": {},
   "source": [
    "KARAR YAPILARI\n",
    "\n",
    "• Eger if blogu dogruysa diger durumlara bakilmaz ve if blogu altindaki kodlar çalisir.\n",
    "\n",
    "• else yapisinin kullanilmas zorunlu degildir olsa da olur olmasada olur.\n",
    "\n",
    "• elif yapisinin kullanilmasi zorunlu degildir olsa da olur olmasada olur.\n",
    "\n",
    "• else yapist if ve varsa elif yapisinin false oldugu durumda ikinci nihai durum olarak çalisir.\n",
    "\n",
    "• elif yapisina birden ok farkli kosullardan dogacak durumlarin kontrolünü saglamak için kullaniriz.\n",
    "\n",
    "\n",
    "if kosul:\n",
    "\n",
    "    # kosul dogruysa çalisacak kodlar\n",
    "\n",
    "\n",
    "elif kosul2:\n",
    "\n",
    "    # kosul2 dogruysa çalisacak kodlar\n",
    "\n",
    "    \n",
    "else:\n",
    "\n",
    "    # kosul ve kosul2 yanlissa çalisacak kodlar\n"
   ]
  },
  {
   "cell_type": "code",
   "execution_count": 7,
   "metadata": {},
   "outputs": [
    {
     "name": "stdout",
     "output_type": "stream",
     "text": [
      "Program sonlandı\n"
     ]
    }
   ],
   "source": [
    "if 0>1 :\n",
    "    print(\"If blogu calisti\")\n",
    "\n",
    "print(\"Program sonlandı\")"
   ]
  },
  {
   "cell_type": "code",
   "execution_count": 14,
   "metadata": {},
   "outputs": [
    {
     "name": "stdout",
     "output_type": "stream",
     "text": [
      "2. sayı 1. sayıdan büyüktür.\n"
     ]
    }
   ],
   "source": [
    "sayi1 = int(input(\"1.sayıyı giriniz:\"))\n",
    "sayi2 = int(input(\"2.sayıyı giriniz:\"))\n",
    "\n",
    "\n",
    "if sayi1> sayi2:\n",
    "    print(\"1.sayı 2. sayıdan büyüktür.\")\n",
    "elif sayi1 == sayi2 :\n",
    "    print(\"Sayılar birbirine eşittir.\")\n",
    "else :\n",
    "    print(\"2. sayı 1. sayıdan büyüktür.\")\n"
   ]
  },
  {
   "cell_type": "code",
   "execution_count": 20,
   "metadata": {},
   "outputs": [
    {
     "name": "stdout",
     "output_type": "stream",
     "text": [
      "3. sayı 5 ten büyüktür.\n",
      "İkinci else\n"
     ]
    }
   ],
   "source": [
    "sayi3=10\n",
    "sayi4=8\n",
    "\n",
    "if sayi3 >5:\n",
    "    print(\"3. sayı 5 ten büyüktür.\")\n",
    "    if sayi4 > 10 :\n",
    "        print(\"4. sayı 10 dan büyüktür.\")\n",
    "    else:\n",
    "        print(\"İkinci else\")\n",
    "else:\n",
    "    print(\"Birinci else\")"
   ]
  },
  {
   "cell_type": "code",
   "execution_count": 21,
   "metadata": {},
   "outputs": [
    {
     "name": "stdout",
     "output_type": "stream",
     "text": [
      "Yokmuş\n"
     ]
    }
   ],
   "source": [
    "isim= \"Berkcan\"\n",
    "if \"gümüşışık\" in isim: \n",
    "    print(\"Varmış\")\n",
    "\n",
    "# in içinde mi onu sorgular. \n",
    "\n",
    "else:\n",
    "    print(\"Yokmuş\")"
   ]
  },
  {
   "cell_type": "markdown",
   "metadata": {},
   "source": [
    "in Operatörü \n",
    "\n",
    "Belirtilen bir değerin, dizi, metin, liste veya demet gibi bir dizinin öğesi olup olmaığını kontrol eder. True ya da false değeri döndürür. "
   ]
  },
  {
   "cell_type": "code",
   "execution_count": 22,
   "metadata": {},
   "outputs": [
    {
     "data": {
      "text/plain": [
       "False"
      ]
     },
     "execution_count": 22,
     "metadata": {},
     "output_type": "execute_result"
    }
   ],
   "source": [
    "string= \"Yetgen\"\n",
    "\"p\" in string"
   ]
  }
 ],
 "metadata": {
  "kernelspec": {
   "display_name": "Python 3",
   "language": "python",
   "name": "python3"
  },
  "language_info": {
   "codemirror_mode": {
    "name": "ipython",
    "version": 3
   },
   "file_extension": ".py",
   "mimetype": "text/x-python",
   "name": "python",
   "nbconvert_exporter": "python",
   "pygments_lexer": "ipython3",
   "version": "3.12.3"
  }
 },
 "nbformat": 4,
 "nbformat_minor": 2
}
