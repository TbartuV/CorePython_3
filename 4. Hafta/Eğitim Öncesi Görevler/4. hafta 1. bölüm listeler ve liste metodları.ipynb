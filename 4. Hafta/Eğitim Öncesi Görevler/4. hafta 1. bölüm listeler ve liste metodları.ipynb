{
 "cells": [
  {
   "cell_type": "code",
   "execution_count": 7,
   "metadata": {},
   "outputs": [
    {
     "name": "stdout",
     "output_type": "stream",
     "text": [
      "['Ahmet', 'eslem', 'berkcan']\n"
     ]
    }
   ],
   "source": [
    "liderler= [\"Ahmet\", \"eslem\", \"berkcan\"]\n",
    "print(liderler)"
   ]
  },
  {
   "cell_type": "code",
   "execution_count": 8,
   "metadata": {},
   "outputs": [
    {
     "name": "stdout",
     "output_type": "stream",
     "text": [
      "eslem\n"
     ]
    }
   ],
   "source": [
    "print(liderler[1])"
   ]
  },
  {
   "cell_type": "code",
   "execution_count": 12,
   "metadata": {},
   "outputs": [
    {
     "name": "stdout",
     "output_type": "stream",
     "text": [
      "['Ahmet', 'eslem', 'berkcan', 'emirhan', 'emirhan', 'emirhan', 'emirhan']\n"
     ]
    }
   ],
   "source": [
    "liderler.append (\"emirhan\")\n",
    "print(liderler)"
   ]
  },
  {
   "cell_type": "code",
   "execution_count": 13,
   "metadata": {},
   "outputs": [
    {
     "name": "stdout",
     "output_type": "stream",
     "text": [
      "['Ahmet', 'eslem', 'emirhan', 'emirhan', 'emirhan', 'emirhan']\n"
     ]
    }
   ],
   "source": [
    "liderler.remove(\"berkcan\")\n",
    "print(liderler)"
   ]
  },
  {
   "cell_type": "code",
   "execution_count": 14,
   "metadata": {},
   "outputs": [
    {
     "name": "stdout",
     "output_type": "stream",
     "text": [
      "6\n"
     ]
    }
   ],
   "source": [
    "print(len(liderler))"
   ]
  },
  {
   "cell_type": "code",
   "execution_count": 15,
   "metadata": {},
   "outputs": [
    {
     "name": "stdout",
     "output_type": "stream",
     "text": [
      "['Ahmet', 'eslem', 'berkcan', 'emirhan', 'emirhan', 'emirhan']\n"
     ]
    }
   ],
   "source": [
    "liderler[2]= \"berkcan\"\n",
    "print(liderler)"
   ]
  },
  {
   "cell_type": "code",
   "execution_count": 16,
   "metadata": {},
   "outputs": [],
   "source": [
    "liderler.clear()"
   ]
  },
  {
   "cell_type": "code",
   "execution_count": 17,
   "metadata": {},
   "outputs": [
    {
     "data": {
      "text/plain": [
       "[]"
      ]
     },
     "execution_count": 17,
     "metadata": {},
     "output_type": "execute_result"
    }
   ],
   "source": [
    "liderler"
   ]
  },
  {
   "cell_type": "code",
   "execution_count": 18,
   "metadata": {},
   "outputs": [],
   "source": [
    "sehirler= list((\"istanbul\",\"ankara\",\"bursa\"))"
   ]
  },
  {
   "cell_type": "code",
   "execution_count": 19,
   "metadata": {},
   "outputs": [
    {
     "name": "stdout",
     "output_type": "stream",
     "text": [
      "['istanbul', 'ankara', 'bursa']\n"
     ]
    }
   ],
   "source": [
    "print(sehirler)"
   ]
  },
  {
   "cell_type": "code",
   "execution_count": 20,
   "metadata": {},
   "outputs": [
    {
     "name": "stdout",
     "output_type": "stream",
     "text": [
      "Ankara'nın indeksi :  1\n"
     ]
    }
   ],
   "source": [
    "print(\"Ankara'nın indeksi : \", sehirler.index (\"ankara\"))"
   ]
  },
  {
   "cell_type": "code",
   "execution_count": 21,
   "metadata": {},
   "outputs": [
    {
     "data": {
      "text/plain": [
       "'bursa'"
      ]
     },
     "execution_count": 21,
     "metadata": {},
     "output_type": "execute_result"
    }
   ],
   "source": [
    "sehirler.pop()"
   ]
  },
  {
   "cell_type": "code",
   "execution_count": 22,
   "metadata": {},
   "outputs": [
    {
     "data": {
      "text/plain": [
       "'istanbul'"
      ]
     },
     "execution_count": 22,
     "metadata": {},
     "output_type": "execute_result"
    }
   ],
   "source": [
    "sehirler.pop(0)"
   ]
  },
  {
   "cell_type": "code",
   "execution_count": 23,
   "metadata": {},
   "outputs": [
    {
     "data": {
      "text/plain": [
       "['ankara']"
      ]
     },
     "execution_count": 23,
     "metadata": {},
     "output_type": "execute_result"
    }
   ],
   "source": [
    "sehirler"
   ]
  },
  {
   "cell_type": "code",
   "execution_count": 26,
   "metadata": {},
   "outputs": [
    {
     "name": "stdout",
     "output_type": "stream",
     "text": [
      "['adana', 'adana', 'antalya', 'adana', 'antalya', 'ankara', 'antalya']\n"
     ]
    }
   ],
   "source": [
    "sehirler.insert(0, \"adana\")\n",
    "sehirler.insert(2, \"antalya\")\n",
    "\n",
    "print(sehirler)"
   ]
  },
  {
   "cell_type": "code",
   "execution_count": 27,
   "metadata": {},
   "outputs": [
    {
     "name": "stdout",
     "output_type": "stream",
     "text": [
      "['antalya', 'ankara', 'antalya', 'adana', 'antalya', 'adana', 'adana']\n"
     ]
    }
   ],
   "source": [
    "sehirler.reverse()\n",
    "\n",
    "print(sehirler)"
   ]
  },
  {
   "cell_type": "code",
   "execution_count": 28,
   "metadata": {},
   "outputs": [
    {
     "name": "stdout",
     "output_type": "stream",
     "text": [
      "['adana', 'adana', 'adana', 'ankara', 'antalya', 'antalya', 'antalya']\n"
     ]
    }
   ],
   "source": [
    "sehirler.sort()\n",
    "\n",
    "print(sehirler)"
   ]
  },
  {
   "cell_type": "code",
   "execution_count": 29,
   "metadata": {},
   "outputs": [
    {
     "name": "stdout",
     "output_type": "stream",
     "text": [
      "['zehra', 'bartu', 'arda', 'bahri', 'ayşe', 'ahmet']\n"
     ]
    }
   ],
   "source": [
    "liste1= [\"zehra\",\"bartu\",\"arda\"]\n",
    "liste2= [\"bahri\",\"ayşe\",\"ahmet\"]\n",
    "print(liste1+liste2 )"
   ]
  },
  {
   "cell_type": "code",
   "execution_count": 31,
   "metadata": {},
   "outputs": [
    {
     "name": "stdout",
     "output_type": "stream",
     "text": [
      "1\n",
      "7\n",
      "bartu\n",
      "8\n",
      "6\n",
      "z\n"
     ]
    }
   ],
   "source": [
    "nestedList = [1,7,\"bartu\",8,[6,\"z\"]]\n",
    "print(nestedList[0])\n",
    "print(nestedList[1])\n",
    "print(nestedList[2])\n",
    "print(nestedList[3])\n",
    "print(nestedList[4][0])\n",
    "print(nestedList[4][1])"
   ]
  }
 ],
 "metadata": {
  "kernelspec": {
   "display_name": "Python 3",
   "language": "python",
   "name": "python3"
  },
  "language_info": {
   "codemirror_mode": {
    "name": "ipython",
    "version": 3
   },
   "file_extension": ".py",
   "mimetype": "text/x-python",
   "name": "python",
   "nbconvert_exporter": "python",
   "pygments_lexer": "ipython3",
   "version": "3.12.3"
  }
 },
 "nbformat": 4,
 "nbformat_minor": 2
}
