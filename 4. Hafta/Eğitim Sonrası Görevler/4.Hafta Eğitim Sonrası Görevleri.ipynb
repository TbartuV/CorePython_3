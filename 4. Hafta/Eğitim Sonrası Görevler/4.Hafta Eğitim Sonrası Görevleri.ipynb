{
 "cells": [
  {
   "cell_type": "markdown",
   "metadata": {},
   "source": [
    "# Problem 1\n",
    "`ogrenciler` adında bir sözlük oluşturunuz. Kullanıcıdan döngü yardımıyla 3 öğrenci için veri girmesini isteyerek öğrencilerin sırasıyla okul numarası, isim, soy isim, telefon numarası ve doğum tarihi bilgilerini alınız. Aldığınız öğrenci bilgilerini yine aynı döngü yardımıyla `ogrenciler` adındaki sözlükte saklayınız. Daha sonra öğrenci bilgilerinin bulunduğu sözlük yapısını ekrana bastırınız.\n",
    "\n"
   ]
  },
  {
   "cell_type": "code",
   "execution_count": 1,
   "metadata": {},
   "outputs": [
    {
     "name": "stdout",
     "output_type": "stream",
     "text": [
      "Öğrenci 1 bilgilerini giriniz:\n",
      "Öğrenci 2 bilgilerini giriniz:\n",
      "Öğrenci 3 bilgilerini giriniz:\n",
      "\n",
      "Öğrenci Bilgileri:\n",
      "Okul Numarası: 19244410024\n",
      "İsim: bartu\n",
      "Soyisim: vatansever\n",
      "Telefon: 05334854047\n",
      "Doğum Tarihi: 19111999\n",
      "\n",
      "Okul Numarası: 4353\n",
      "İsim: atilla\n",
      "Soyisim: yaz\n",
      "Telefon: 7478384894\n",
      "Doğum Tarihi: 23022000\n",
      "\n",
      "Okul Numarası: 873287328\n",
      "İsim: ulas\n",
      "Soyisim: kar\n",
      "Telefon: 5346544940\n",
      "Doğum Tarihi: 08042001\n",
      "\n"
     ]
    }
   ],
   "source": [
    "ogrenciler = {}\n",
    "\n",
    "for i in range(3):\n",
    "    print(f\"Öğrenci {i+1} bilgilerini giriniz:\")\n",
    "    okul_no = input(\"Okul Numarası: \")\n",
    "    isim = input(\"İsim: \")\n",
    "    soyisim = input(\"Soyisim: \")\n",
    "    telefon = input(\"Telefon Numarası: \")\n",
    "    dogum_tarihi = input(\"Doğum Tarihi: \")\n",
    "    \n",
    "    ogrenciler[okul_no] = {\n",
    "        'İsim': isim,\n",
    "        'Soyisim': soyisim,\n",
    "        'Telefon': telefon,\n",
    "        'Doğum Tarihi': dogum_tarihi\n",
    "    }\n",
    "\n",
    "print(\"\\nÖğrenci Bilgileri:\")\n",
    "for okul_no, bilgiler in ogrenciler.items():\n",
    "    print(f\"Okul Numarası: {okul_no}\")\n",
    "    for key, value in bilgiler.items():\n",
    "        print(f\"{key}: {value}\")\n",
    "    print()\n"
   ]
  },
  {
   "cell_type": "markdown",
   "metadata": {},
   "source": [
    "# Problem 2\n",
    "\n",
    "### a - Biraz ısınarak başlayalım!\n",
    "\n",
    "```\n",
    "numbers = [5,10,10,15,15,15,20,20,20,20]\n",
    "```\n",
    "\n",
    "Yukarıda `numbers` adında 10 elemanlı bir liste verilmiştir. Bu listenin her elemanını kontrol eden ve tekrar eden elemanları bir kez olacak şekilde başka bir listeye kopyalayan bir program yazınız. Son olarak oluşturduğunuz listeyi ekrana bastırınız.\n",
    "\n",
    "\n",
    "\n",
    "\n",
    "```\n",
    ">Output\n",
    "[5, 10, 15, 20]\n",
    "```\n"
   ]
  },
  {
   "cell_type": "code",
   "execution_count": 2,
   "metadata": {},
   "outputs": [
    {
     "name": "stdout",
     "output_type": "stream",
     "text": [
      "[5, 10, 15, 20]\n"
     ]
    }
   ],
   "source": [
    "numbers = [5, 10, 10, 15, 15, 15, 20, 20, 20, 20]\n",
    "\n",
    "unique_numbers = set(numbers)\n",
    "\n",
    "unique_numbers_list = sorted(unique_numbers)\n",
    "\n",
    "print(unique_numbers_list)\n"
   ]
  },
  {
   "cell_type": "markdown",
   "metadata": {},
   "source": [
    "### 🌶️ b) Hadi işi biraz daha zorlaştıralım! \n",
    "\n",
    "\n",
    "Şimdiyse senden `numbers` isimli listedeki tekrar eden elemanları `repeatNumbers` adındaki listeye; tekrar etmeyen elemanları `uniqueNumbers`adındaki listeye kopyalayan yazmanı ve listeleri ekrana bastırmanı bekliyoruz\n",
    "\n",
    "```\n",
    ">Output\n",
    "Tekrar Eden Elemanlar: [10, 10, 15, 15, 15, 20, 20, 20, 20]\n",
    "Tekrar Etmeyen Elemanlar: [5]\n",
    "```"
   ]
  },
  {
   "cell_type": "code",
   "execution_count": 3,
   "metadata": {},
   "outputs": [
    {
     "name": "stdout",
     "output_type": "stream",
     "text": [
      "Tekrar Eden Elemanlar: [10, 10, 15, 15, 15, 20, 20, 20, 20]\n",
      "Tekrar Etmeyen Elemanlar: [5]\n"
     ]
    }
   ],
   "source": [
    "numbers = [5, 10, 10, 15, 15, 15, 20, 20, 20, 20]\n",
    "\n",
    "repeatNumbers = []\n",
    "uniqueNumbers = []\n",
    "\n",
    "for num in numbers:\n",
    "    if numbers.count(num) > 1:  \n",
    "        repeatNumbers.append(num)\n",
    "    else:\n",
    "        uniqueNumbers.append(num)\n",
    "\n",
    "print(\"Tekrar Eden Elemanlar:\", repeatNumbers)\n",
    "print(\"Tekrar Etmeyen Elemanlar:\", uniqueNumbers)\n"
   ]
  },
  {
   "cell_type": "markdown",
   "metadata": {},
   "source": [
    "# Problem 3\n",
    "sn1 = {1,2,3,4,5}\n",
    "\n",
    "sn2 = {4,5,6,7,8}\n",
    "\n",
    " Verilen 2 adet küme için kesişimlerini, farklarını ve birleşimlerini bulunuz. "
   ]
  },
  {
   "cell_type": "code",
   "execution_count": 4,
   "metadata": {},
   "outputs": [
    {
     "name": "stdout",
     "output_type": "stream",
     "text": [
      "Kesişim: {4, 5}\n",
      "sn1 - sn2 Farkı: {1, 2, 3}\n",
      "sn2 - sn1 Farkı: {8, 6, 7}\n",
      "Birleşim: {1, 2, 3, 4, 5, 6, 7, 8}\n"
     ]
    }
   ],
   "source": [
    "sn1 = {1, 2, 3, 4, 5}\n",
    "sn2 = {4, 5, 6, 7, 8}\n",
    "\n",
    "intersection = sn1 & sn2\n",
    "\n",
    "difference_sn1_sn2 = sn1 - sn2\n",
    "difference_sn2_sn1 = sn2 - sn1\n",
    "\n",
    "union = sn1 | sn2\n",
    "\n",
    "print(\"Kesişim:\", intersection)\n",
    "print(\"sn1 - sn2 Farkı:\", difference_sn1_sn2)\n",
    "print(\"sn2 - sn1 Farkı:\", difference_sn2_sn1)\n",
    "print(\"Birleşim:\", union)\n"
   ]
  },
  {
   "cell_type": "markdown",
   "metadata": {},
   "source": [
    "# Problem 4\n",
    "\n",
    "Buradaki işlemlerimizin tamamı stringler içindir. Aşağıda verilecek olan metodlar için kendinizin örnek yaratması gerekmektedir. \n",
    "\n",
    "Örneğin `upper` için `string` değişkeni oluştururken` k = \"BAC\"` şeklinde oluşturmayınız. Bunun yerine k değişkenini `k = \"bac`\" şeklinde oluşturmanız `upper` metodundaki değişimi görebilmeniz için daha iyi olacaktır.\n",
    "\n",
    "Bütün metodlardaki değişimin gözle görülür şekilde değişimi beklenmektedir.\n",
    "\n",
    "\n",
    "1- capitalize(), lower(), upper(), swapcase(), title(), replace()\n",
    "\n",
    "2- endswith(), startswith(), find(), index(), count()\n",
    "\n",
    "3- split(), strip(), join(), islower(), isalpha(), isdigit()\n",
    "\n",
    "\n",
    "Yukarıdaki `string` metodlarındaki değişimleri görebildiğimiz bir program yazınız.\n"
   ]
  },
  {
   "cell_type": "code",
   "execution_count": 5,
   "metadata": {},
   "outputs": [
    {
     "name": "stdout",
     "output_type": "stream",
     "text": [
      "Merhaba dünya 123\n",
      "merhaba dünya 123\n",
      "MERHABA DÜNYA 123\n",
      "MERHABA DÜNYA 123\n",
      "Merhaba Dünya 123\n",
      "merhaba dünya 456\n",
      "True\n",
      "True\n",
      "8\n",
      "8\n",
      "3\n",
      "['merhaba', 'dünya', '123']\n",
      "merhaba dünya \n",
      "m-e-r-h-a-b-a- -d-ü-n-y-a- -1-2-3\n",
      "True\n",
      "False\n",
      "False\n"
     ]
    }
   ],
   "source": [
    "s = \"merhaba dünya 123\"\n",
    "\n",
    "print(s.capitalize())\n",
    "print(s.lower())\n",
    "print(s.upper())\n",
    "print(s.swapcase())\n",
    "print(s.title())\n",
    "print(s.replace('123', '456'))\n",
    "\n",
    "print(s.endswith('123'))\n",
    "print(s.startswith('merhaba'))\n",
    "print(s.find('dünya'))\n",
    "print(s.index('dünya'))\n",
    "print(s.count('a'))\n",
    "\n",
    "print(s.split())\n",
    "print(s.strip('123'))\n",
    "print('-'.join(s))\n",
    "print(s.islower())\n",
    "print(s.isalpha())\n",
    "print(s.isdigit())\n",
    "\n"
   ]
  }
 ],
 "metadata": {
  "kernelspec": {
   "display_name": "Python 3.10.5 64-bit",
   "language": "python",
   "name": "python3"
  },
  "language_info": {
   "codemirror_mode": {
    "name": "ipython",
    "version": 3
   },
   "file_extension": ".py",
   "mimetype": "text/x-python",
   "name": "python",
   "nbconvert_exporter": "python",
   "pygments_lexer": "ipython3",
   "version": "3.12.3"
  },
  "orig_nbformat": 4,
  "vscode": {
   "interpreter": {
    "hash": "5026d2d6e7aaaaba093def813beadff083d8733e4a511af01735cbabd156995d"
   }
  }
 },
 "nbformat": 4,
 "nbformat_minor": 2
}
